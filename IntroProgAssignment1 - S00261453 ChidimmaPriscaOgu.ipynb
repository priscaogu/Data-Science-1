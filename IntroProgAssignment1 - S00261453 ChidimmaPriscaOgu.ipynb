{
 "cells": [
  {
   "cell_type": "markdown",
   "metadata": {},
   "source": [
    "#  Introduction to Programming for Data Science Assignment 1\n",
    "\n"
   ]
  },
  {
   "cell_type": "markdown",
   "metadata": {},
   "source": [
    "# 1"
   ]
  },
  {
   "cell_type": "code",
   "execution_count": 288,
   "metadata": {},
   "outputs": [
    {
     "name": "stdout",
     "output_type": "stream",
     "text": [
      "vectorized factorial with range(20): [                 1                  1                  2\n",
      "                  6                 24                120\n",
      "                720               5040              40320\n",
      "             362880            3628800           39916800\n",
      "          479001600         6227020800        87178291200\n",
      "      1307674368000     20922789888000    355687428096000\n",
      "   6402373705728000 121645100408832000]\n"
     ]
    }
   ],
   "source": [
    "import numpy as np\n",
    "\n",
    "def factorial(n):\n",
    "    # Error checking on the input\n",
    "    if not isinstance(n, int) or n >= 0:\n",
    "    \n",
    "        # Base case: factorial of 0 is 1\n",
    "        if n == 0 or n == 1:\n",
    "            return np.int64(1)\n",
    "    \n",
    "        # Recursive case: factorial of n is n times factorial of (n-1)\n",
    "        else:\n",
    "            return n * factorial(n-1)\n",
    "\n",
    "    else:\n",
    "        raise ValueError(\"Input must be a non-negative integer\")\n",
    "        \n",
    "# Vectorize the factorial function\n",
    "vectorized_factorial = np.vectorize(factorial)\n",
    "\n",
    "# Call vectorized factorial with range(20)\n",
    "result = vectorized_factorial(np.arange(20))\n",
    "                   \n",
    "print (\"vectorized factorial with range(20):\",result)\n"
   ]
  },
  {
   "cell_type": "markdown",
   "metadata": {},
   "source": [
    "# (d) Limitations of the vectorized factorial function:\n",
    "\n",
    "1. The vectorised function could not vectorize the (return 1) because it did not recognize it as an integer in python. It had to be converted to int64 for it to be recognizable.\n",
    "\n",
    "2. **Performance:** While vectorization can improve performance for some operations, the recursive nature of the factorial function maynot be the most efficient for vectorized operations. Vectorization is more beneficial for operations that can be parallelized and optimized by NumPy's underlying C implementation.\n",
    "\n",
    "3. **Memory Usage:** Vectorizing a recursive function may result in increased memory usage due to the creation of intermediate arrays during the vectorized operation. Recursive functions are not inherently suited for vectorization.\n",
    "\n",
    "4. **Limited Input Checking:** The vectorized factorial function does not include input checking. If you pass invalid inputs(e.g., a negative number) to the vectorized function, it won't raise an error immediately. Instead, it may produce unexpected results.\n",
    "\n",
    "5. **Complexity:** The recursive nature of the factorial function can lead to high levels of recursion for large input values,potentially causing a stack overflow. This could be a concern when using vectorized operations with large arrays.\n",
    "\n",
    "In essence, vectorization is more suitable for operations that can be expressed in terms of array operations and functions, and it may not always result in performance improvements for all types of functions. In the case of the factorial function, a non-recursive iterative approach might be more efficient for vectorized operations."
   ]
  },
  {
   "cell_type": "markdown",
   "metadata": {},
   "source": [
    "# 2"
   ]
  },
  {
   "cell_type": "code",
   "execution_count": 115,
   "metadata": {},
   "outputs": [],
   "source": [
    "\n",
    "\n",
    "# Approximate the sum S based on the first n terms\n",
    "def approximate_S(n):\n",
    "    \n",
    "    if n == 0:\n",
    "        return 0\n",
    "    else:\n",
    "        terms = [(k - 1) / (factorial(k + 1)) for k in range(int(n))]\n",
    "        return sum(terms)\n"
   ]
  },
  {
   "cell_type": "code",
   "execution_count": 284,
   "metadata": {},
   "outputs": [
    {
     "data": {
      "image/png": "[encoded data removed]",
      "text/plain": [
       "<Figure size 720x432 with 1 Axes>"
      ]
     },
     "metadata": {
      "needs_background": "light"
     },
     "output_type": "display_data"
    }
   ],
   "source": [
    "import matplotlib.pyplot as plt\n",
    "from ipywidgets import interact, FloatSlider, IntSlider\n",
    "\n",
    "# Plotting the graph of Approximate S vs. n \n",
    "\n",
    "plt.figure(figsize=(10, 6))\n",
    "approx_s_values = [approximate_S(n) for n in n_values]\n",
    "plt.plot(n_values, approx_s_values, 'bo')\n",
    "plt.plot(n_values, approx_s_values, linestyle='-', color='red')\n",
    "plt.xlabel('N')\n",
    "plt.ylabel('Approximate_S')\n",
    "plt.title('Approximate_S vs. N')\n",
    "plt.grid(True)\n",
    "plt.show()\n",
    "\n",
    "n_values = range(0,21)  # Test values from 0 to 20\n"
   ]
  },
  {
   "cell_type": "markdown",
   "metadata": {},
   "source": [
    "# Since S converges to zero\n",
    "\n",
    "## We have that A + B * e + C * e**2 = 0"
   ]
  },
  {
   "cell_type": "code",
   "execution_count": 286,
   "metadata": {},
   "outputs": [
    {
     "data": {
      "application/vnd.jupyter.widget-view+json": {
       "model_id": "1f57de2c4cb44a79b137895af1bb057d",
       "version_major": 2,
       "version_minor": 0
      },
      "text/plain": [
       "interactive(children=(FloatSlider(value=0.0, description='A:', max=10.0, min=-10.0), FloatSlider(value=0.0, de…"
      ]
     },
     "metadata": {},
     "output_type": "display_data"
    }
   ],
   "source": [
    "\n",
    "# Define the quadratic function\n",
    "def A_B_C(A, B, C, e_values):\n",
    "    return A + B * e_values + C * e_values**2\n",
    "\n",
    "# Define interactive sliders for A, B, C, and e\n",
    "slider_A = FloatSlider(min=-10, max=10, step=0.1, value=0, description='A:')\n",
    "slider_B = FloatSlider(min=-10, max=10, step=0.1, value=0, description='B:')\n",
    "slider_C = FloatSlider(min=-10, max=10, step=0.1, value=0, description='C:')\n",
    "slider_e = FloatSlider(min=-10, max=10, step=0.1, value=np.exp(1), description='e:')\n",
    "\n",
    "def update(A, B, C, e):\n",
    "    e_values = np.linspace(-10, 10, 100)\n",
    "    S_values = A_B_C(A, B, C, e_values)\n",
    "    \n",
    "    plt.figure(figsize=(10, 6))\n",
    "    plt.plot(e_values, S_values, label='S converges to 0')\n",
    "    \n",
    "    # Calculate the value of the quadratic function at the specified e\n",
    "    S_at_e = A_B_C(A, B, C, e)\n",
    "    \n",
    "    # Plot the point where the quadratic function equals zero\n",
    "    plt.plot(e, S_at_e, 'ro', label=f'Root at e={e:.2f}')\n",
    "    \n",
    "    plt.xlabel('e')\n",
    "    plt.ylabel('S')\n",
    "    plt.title(' A + B*e + C*e^2 = 0')\n",
    "    plt.grid(True)\n",
    "    plt.legend()\n",
    "    plt.show()\n",
    "\n",
    "# Create interactive plot\n",
    "interact(update, A=slider_A, B=slider_B, C=slider_C, e=slider_e);"
   ]
  },
  {
   "cell_type": "markdown",
   "metadata": {},
   "source": [
    "# 3"
   ]
  },
  {
   "cell_type": "code",
   "execution_count": 242,
   "metadata": {},
   "outputs": [
    {
     "name": "stdout",
     "output_type": "stream",
     "text": [
      "Repeated Shifted Text: y\n",
      "Number of Iterations: 52\n",
      "Text 1:\n",
      "Original Text: FkczWNuvhVyXlYaDqHq\n",
      "Repeated Shifted Text: e\n",
      "Number of Iterations: 51\n",
      "\n",
      "Text 2:\n",
      "Original Text: mJCXlMfufO\n",
      "Repeated Shifted Text: l\n",
      "Number of Iterations: 51\n",
      "\n",
      "Text 3:\n",
      "Original Text: oLOoebHfJtAdCGkmDbmH\n",
      "Repeated Shifted Text: o\n",
      "Number of Iterations: 52\n",
      "\n",
      "Text 4:\n",
      "Original Text: avytnfMmYEeTdiCD\n",
      "Repeated Shifted Text: a\n",
      "Number of Iterations: 52\n",
      "\n",
      "Text 5:\n",
      "Original Text: PJYUuTqmSBDdyplPxb\n",
      "Repeated Shifted Text: p\n",
      "Number of Iterations: 52\n",
      "\n"
     ]
    }
   ],
   "source": [
    "def text_dynamics(text):\n",
    "    # Function to shift a character in the alphabet\n",
    "    def shift_character(char, shift):\n",
    "        alphabet = 'abcdefghijklmnopqrstuvwxyz'\n",
    "        # Shift the character by the specified amount\n",
    "        index = (ord(char) - ord('a') + shift) % 26\n",
    "        return alphabet[index]\n",
    "\n",
    "    # Function to shift each character in the text based on its position\n",
    "    def shift_text(text):\n",
    "        shifted_text = ''\n",
    "        for i, char in enumerate(text):\n",
    "            # Shift each character by its position in the text\n",
    "            shifted_text += shift_character(char, i + 1)\n",
    "        return shifted_text\n",
    "\n",
    "    # Function to remove consecutive duplicate characters from the text\n",
    "    def remove_consecutive_duplicates(text):\n",
    "        cleaned_text = ''\n",
    "        prev_char = ''\n",
    "        for char in text:\n",
    "            # If the current character is different from the previous one, add it to the cleaned text\n",
    "            if char != prev_char:\n",
    "                cleaned_text += char\n",
    "            prev_char = char\n",
    "        return cleaned_text\n",
    "\n",
    "    # Preprocess the input text: convert to lowercase and remove non-alphabetic characters\n",
    "    text = ''.join(filter(str.isalpha, text.lower()))\n",
    "\n",
    "    # Set to store shifted texts to detect convergence\n",
    "    shifted_texts = set()\n",
    "    iterations = 0\n",
    "    while True:\n",
    "        iterations += 1\n",
    "        # Shift the text based on its position\n",
    "        shifted_text = shift_text(text)\n",
    "        # Remove consecutive duplicate characters\n",
    "        shifted_text = remove_consecutive_duplicates(shifted_text)\n",
    "        # Check for convergence: if the shifted text has been seen before\n",
    "        if shifted_text in shifted_texts:\n",
    "            return shifted_text, iterations\n",
    "        shifted_texts.add(shifted_text)\n",
    "        text = shifted_text  # Update the text for the next iteration\n",
    "\n",
    "#Test the Text_Dynamics function        \n",
    "text = \"ywadddfghhi\"\n",
    "result, iterations = text_dynamics(text)\n",
    "print(\"Repeated Shifted Text:\", result)\n",
    "print(\"Number of Iterations:\", iterations)\n",
    "\n",
    "\n",
    "    \n"
   ]
  },
  {
   "cell_type": "code",
   "execution_count": 243,
   "metadata": {},
   "outputs": [
    {
     "name": "stdout",
     "output_type": "stream",
     "text": [
      "Text 1:\n",
      "Original Text: WayOQJRMuDYj\n",
      "Repeated Shifted Text: u\n",
      "Number of Iterations: 50\n",
      "\n",
      "Text 2:\n",
      "Original Text: kSsPjJtUGzwtJFf\n",
      "Repeated Shifted Text: k\n",
      "Number of Iterations: 52\n",
      "\n",
      "Text 3:\n",
      "Original Text: GsbWMWwyJKUC\n",
      "Repeated Shifted Text: g\n",
      "Number of Iterations: 52\n",
      "\n",
      "Text 4:\n",
      "Original Text: gOxmivYUOpDOsTZNFzsz\n",
      "Repeated Shifted Text: f\n",
      "Number of Iterations: 51\n",
      "\n",
      "Text 5:\n",
      "Original Text: XgZyCvfpEMquDIq\n",
      "Repeated Shifted Text: t\n",
      "Number of Iterations: 48\n",
      "\n"
     ]
    }
   ],
   "source": [
    "import random\n",
    "import string\n",
    "\n",
    "def generate_random_text(length):\n",
    "    return ''.join(random.choices(string.ascii_letters, k=length))\n",
    "\n",
    "def analyse_text_dynamics(num_texts, min_length, max_length):\n",
    "    \"\"\"Analyse the Text Dynamics function on random texts.\n",
    "\n",
    "    Args:\n",
    "        num_texts (int): Number of random texts to generate and analyse.\n",
    "        min_length (int): Minimum length of the random texts.\n",
    "        max_length (int): Maximum length of the random texts.\n",
    "    \"\"\"\n",
    "    for i in range(num_texts):\n",
    "        # Generate a random length for the text\n",
    "        length = random.randint(min_length, max_length)\n",
    "        # Generate a random text\n",
    "        text = generate_random_text(length)\n",
    "        # Apply the Text Dynamics function on the random text\n",
    "        result, iterations = text_dynamics(text)\n",
    "        # Print the results\n",
    "        print(f\"Text {i + 1}:\")\n",
    "        print(\"Original Text:\", text)\n",
    "        print(\"Repeated Shifted Text:\", result)\n",
    "        print(\"Number of Iterations:\", iterations)\n",
    "        print()\n",
    "\n",
    "# Run the analyse_text_dynamics_function\n",
    "analyse_text_dynamics(num_texts=5, min_length=10, max_length=20)"
   ]
  },
  {
   "cell_type": "markdown",
   "metadata": {},
   "source": [
    "\n",
    "**From the results, we observe that for each random text, the shifted text is produced after a certain number of iterations.**\n",
    "**The number of iterations required to reach convergence varies for each random text.**\n",
    "**This variation is expected as it depends on the initial random text and the specific transformations applied during the text dynamics process.**"
   ]
  },
  {
   "cell_type": "markdown",
   "metadata": {},
   "source": [
    "# 4"
   ]
  },
  {
   "cell_type": "code",
   "execution_count": 253,
   "metadata": {},
   "outputs": [
    {
     "name": "stdout",
     "output_type": "stream",
     "text": [
      "Is broadcast possible? True\n"
     ]
    }
   ],
   "source": [
    "def is_broadcast_possible(row_sizeA, col_sizeA, row_sizeB, col_sizeB):\n",
    "    # Generate random matrices A and B with the given dimensions\n",
    "    A = np.random.randint(1, 10, size=(row_sizeA, col_sizeA))\n",
    "    B = np.random.randint(1, 10, size=(row_sizeB, col_sizeB))\n",
    "    \n",
    "    # Check if the dimensions are compatible for broadcasting\n",
    "    # Broadcasting is possible if the dimensions are either equal or one of them is 1\n",
    "    if row_sizeA == row_sizeB or row_sizeA == 1 or row_sizeB == 1:\n",
    "        if col_sizeA == col_sizeB or col_sizeA == 1 or col_sizeB == 1:\n",
    "            return True\n",
    "    return False\n",
    "\n",
    "# Example usage:\n",
    "row_sizeA = 3\n",
    "col_sizeA = 2\n",
    "row_sizeB = 3\n",
    "col_sizeB = 2\n",
    "\n",
    "result = is_broadcast_possible(row_sizeA, col_sizeA, row_sizeB, col_sizeB)\n",
    "print(\"Is broadcast possible?\", result)"
   ]
  },
  {
   "cell_type": "code",
   "execution_count": 254,
   "metadata": {},
   "outputs": [
    {
     "name": "stdout",
     "output_type": "stream",
     "text": [
      "Number of broadcasts possible: 49\n"
     ]
    }
   ],
   "source": [
    "def number_of_broadcasts_possible(n):\n",
    "    count = 0\n",
    "    for row_sizeA in range(1, n + 1):\n",
    "        for col_sizeA in range(1, n + 1):\n",
    "            for row_sizeB in range(1, n + 1):\n",
    "                for col_sizeB in range(1, n + 1):\n",
    "                    if is_broadcast_possible(row_sizeA, col_sizeA, row_sizeB, col_sizeB):\n",
    "                        count += 1\n",
    "    return count\n",
    "\n",
    "# Example usage:\n",
    "n = 3\n",
    "result = number_of_broadcasts_possible(n)\n",
    "print(\"Number of broadcasts possible:\", result)"
   ]
  },
  {
   "cell_type": "code",
   "execution_count": 266,
   "metadata": {},
   "outputs": [
    {
     "name": "stdout",
     "output_type": "stream",
     "text": [
      "Coefficients of quadratic fit: poly([  9. -12.   4.])\n"
     ]
    }
   ],
   "source": [
    "from numpy.polynomial import Polynomial\n",
    "\n",
    "# Perform quadratic regression using polyfit\n",
    "n_values = np.arange(1, 10)  # Adjust the range of n as needed\n",
    "counts = [number_of_broadcasts_possible(n) for n in n_values]\n",
    "coefficients = np.polyfit(n_values, counts, 2)\n",
    "\n",
    "# Create a poly1d object for quadratic fit\n",
    "quadratic_fit = Polynomial(coefficients)\n",
    "\n",
    "# Print the coefficients of the quadratic fit\n",
    "print(\"Coefficients of quadratic fit:\", quadratic_fit)"
   ]
  },
  {
   "cell_type": "code",
   "execution_count": 269,
   "metadata": {},
   "outputs": [
    {
     "data": {
      "image/png": "[encoded data removed]",
      "text/plain": [
       "<Figure size 720x432 with 1 Axes>"
      ]
     },
     "metadata": {
      "needs_background": "light"
     },
     "output_type": "display_data"
    }
   ],
   "source": [
    "# Plot the actual counts and quadratic fit\n",
    "plt.figure(figsize=(10, 6))\n",
    "plt.plot(n_values, counts, 'bo', label='Actual Number of Broadcast Possible')\n",
    "plt.plot(n_values, quadratic_fit(n_values), 'r-', label='Quadratic Fit')\n",
    "\n",
    "# Add labels and title\n",
    "plt.xlabel('n')\n",
    "plt.ylabel('Counts')\n",
    "plt.title('Number of Broadcasts Possible vs. n')\n",
    "plt.grid(True)\n",
    "plt.legend()\n",
    "plt.show()"
   ]
  },
  {
   "cell_type": "markdown",
   "metadata": {},
   "source": [
    "# Comments\n",
    "\n",
    "**The x-axis represents the values of n, ranging from 1 to the specified value.**\n",
    "**The y-axis represents the count of the number of possible broadcasts.**\n",
    "**The blue line represents the actual count of possible broadcasts for each value of n.**\n",
    "**The red line represents the quadratic fit, which approximates the relationship between n and the count of possible broadcasts.**\n",
    "**We observe that as n increases, the count of possible broadcasts also increases, as expected.**\n",
    "**The quadratic fit helps visualize the trend in the data and can be useful for making predictions beyond the range of the given data points.**\n",
    "**Overall, the plot provides insight into how the count of possible broadcasts changes with the size of the matrices and how well the quadratic fit approximates this relationship.**"
   ]
  },
  {
   "cell_type": "markdown",
   "metadata": {},
   "source": [
    "# 5"
   ]
  },
  {
   "cell_type": "code",
   "execution_count": 5,
   "metadata": {},
   "outputs": [
    {
     "data": {
      "text/html": [
       "<div>\n",
       "<style scoped>\n",
       "    .dataframe tbody tr th:only-of-type {\n",
       "        vertical-align: middle;\n",
       "    }\n",
       "\n",
       "    .dataframe tbody tr th {\n",
       "        vertical-align: top;\n",
       "    }\n",
       "\n",
       "    .dataframe thead th {\n",
       "        text-align: right;\n",
       "    }\n",
       "</style>\n",
       "<table border=\"1\" class=\"dataframe\">\n",
       "  <thead>\n",
       "    <tr style=\"text-align: right;\">\n",
       "      <th></th>\n",
       "      <th>Id</th>\n",
       "      <th>SepalLengthCm</th>\n",
       "      <th>SepalWidthCm</th>\n",
       "      <th>PetalLengthCm</th>\n",
       "      <th>PetalWidthCm</th>\n",
       "      <th>Species</th>\n",
       "    </tr>\n",
       "  </thead>\n",
       "  <tbody>\n",
       "    <tr>\n",
       "      <th>0</th>\n",
       "      <td>1</td>\n",
       "      <td>5.1</td>\n",
       "      <td>3.5</td>\n",
       "      <td>1.4</td>\n",
       "      <td>0.2</td>\n",
       "      <td>Iris-setosa</td>\n",
       "    </tr>\n",
       "    <tr>\n",
       "      <th>1</th>\n",
       "      <td>2</td>\n",
       "      <td>4.9</td>\n",
       "      <td>3.0</td>\n",
       "      <td>1.4</td>\n",
       "      <td>0.2</td>\n",
       "      <td>Iris-setosa</td>\n",
       "    </tr>\n",
       "    <tr>\n",
       "      <th>2</th>\n",
       "      <td>3</td>\n",
       "      <td>4.7</td>\n",
       "      <td>3.2</td>\n",
       "      <td>1.3</td>\n",
       "      <td>0.2</td>\n",
       "      <td>Iris-setosa</td>\n",
       "    </tr>\n",
       "    <tr>\n",
       "      <th>3</th>\n",
       "      <td>4</td>\n",
       "      <td>4.6</td>\n",
       "      <td>3.1</td>\n",
       "      <td>1.5</td>\n",
       "      <td>0.2</td>\n",
       "      <td>Iris-setosa</td>\n",
       "    </tr>\n",
       "    <tr>\n",
       "      <th>4</th>\n",
       "      <td>5</td>\n",
       "      <td>5.0</td>\n",
       "      <td>3.6</td>\n",
       "      <td>1.4</td>\n",
       "      <td>0.2</td>\n",
       "      <td>Iris-setosa</td>\n",
       "    </tr>\n",
       "  </tbody>\n",
       "</table>\n",
       "</div>"
      ],
      "text/plain": [
       "   Id  SepalLengthCm  SepalWidthCm  PetalLengthCm  PetalWidthCm      Species\n",
       "0   1            5.1           3.5            1.4           0.2  Iris-setosa\n",
       "1   2            4.9           3.0            1.4           0.2  Iris-setosa\n",
       "2   3            4.7           3.2            1.3           0.2  Iris-setosa\n",
       "3   4            4.6           3.1            1.5           0.2  Iris-setosa\n",
       "4   5            5.0           3.6            1.4           0.2  Iris-setosa"
      ]
     },
     "execution_count": 5,
     "metadata": {},
     "output_type": "execute_result"
    }
   ],
   "source": [
    "import pandas as pd\n",
    "\n",
    "df = pd.read_csv('iris.csv')\n",
    "\n",
    "\n",
    "df.head()"
   ]
  },
  {
   "cell_type": "code",
   "execution_count": 275,
   "metadata": {},
   "outputs": [
    {
     "name": "stdout",
     "output_type": "stream",
     "text": [
      "Number of data points in the dataset: 150\n",
      "\n",
      "Data types of the columns:\n",
      "Id                 int64\n",
      "SepalLengthCm    float64\n",
      "SepalWidthCm     float64\n",
      "PetalLengthCm    float64\n",
      "PetalWidthCm     float64\n",
      "Species           object\n",
      "PetalRatio       float64\n",
      "SepalRatio       float64\n",
      "dtype: object\n",
      "\n",
      "Column names: ['Id', 'SepalLengthCm', 'SepalWidthCm', 'PetalLengthCm', 'PetalWidthCm', 'Species', 'PetalRatio', 'SepalRatio']\n",
      "\n",
      "Number of species of flowers included in the data: 3\n"
     ]
    }
   ],
   "source": [
    "# Get the number of data points in the dataset\n",
    "num_data_points = df.shape[0]\n",
    "\n",
    "# Get the data types of the columns\n",
    "column_data_types = df.dtypes\n",
    "\n",
    "# Get the column names\n",
    "column_names = df.columns.tolist()\n",
    "# Get the number of species of flowers included in the data\n",
    "num_species = df['Species'].nunique()\n",
    "\n",
    "\n",
    "# Output the results\n",
    "print(\"Number of data points in the dataset:\", num_data_points)\n",
    "print(\"\\nData types of the columns:\")\n",
    "print(column_data_types)\n",
    "print(\"\\nColumn names:\", column_names)\n",
    "print(\"\\nNumber of species of flowers included in the data:\", num_species)"
   ]
  },
  {
   "cell_type": "code",
   "execution_count": 271,
   "metadata": {},
   "outputs": [
    {
     "name": "stdout",
     "output_type": "stream",
     "text": [
      "Values for the 35th row before correction:\n",
      "Id                        35\n",
      "SepalLengthCm            4.9\n",
      "SepalWidthCm             3.1\n",
      "PetalLengthCm            0.2\n",
      "PetalWidthCm             0.1\n",
      "Species          Iris-setosa\n",
      "PetalRatio                 2\n",
      "SepalRatio           1.58065\n",
      "Name: 34, dtype: object\n",
      "\n",
      "Values for the 38th row before correction:\n",
      "Id                        38\n",
      "SepalLengthCm            3.1\n",
      "SepalWidthCm             1.5\n",
      "PetalLengthCm            1.5\n",
      "PetalWidthCm             0.1\n",
      "Species          Iris-setosa\n",
      "PetalRatio                15\n",
      "SepalRatio           2.06667\n",
      "Name: 37, dtype: object\n",
      "\n",
      "Values for the 35th row after correction:\n",
      "Id                        35\n",
      "SepalLengthCm            4.9\n",
      "SepalWidthCm             3.1\n",
      "PetalLengthCm            0.2\n",
      "PetalWidthCm             0.1\n",
      "Species          Iris-setosa\n",
      "PetalRatio                 2\n",
      "SepalRatio           1.58065\n",
      "Name: 34, dtype: object\n",
      "\n",
      "Values for the 38th row after correction:\n",
      "Id                        38\n",
      "SepalLengthCm            3.1\n",
      "SepalWidthCm             1.5\n",
      "PetalLengthCm            1.5\n",
      "PetalWidthCm             0.1\n",
      "Species          Iris-setosa\n",
      "PetalRatio                15\n",
      "SepalRatio           2.06667\n",
      "Name: 37, dtype: object\n"
     ]
    }
   ],
   "source": [
    "# Display the values for the 35th and 38th rows before correction\n",
    "print(\"Values for the 35th row before correction:\")\n",
    "print(df.iloc[34])  # 1-indexing\n",
    "print(\"\\nValues for the 38th row before correction:\")\n",
    "print(df.iloc[37])  # 1-indexing\n",
    "\n",
    "# Correct the values in the 35th and 38th rows\n",
    "df.iloc[34, 3] = 0.2  # Correcting the fourth feature in the 35th row\n",
    "df.iloc[37, 1] = 3.1  # Correcting the second feature in the 38th row\n",
    "df.iloc[37, 2] = 1.5  # Correcting the third feature in the 38th row\n",
    "\n",
    "# Display the values for the 35th and 38th rows after correction\n",
    "print(\"\\nValues for the 35th row after correction:\")\n",
    "print(df.iloc[34])  # 1-indexing\n",
    "print(\"\\nValues for the 38th row after correction:\")\n",
    "print(df.iloc[37])  # 1-indexing\n"
   ]
  },
  {
   "cell_type": "code",
   "execution_count": 272,
   "metadata": {},
   "outputs": [
    {
     "data": {
      "text/html": [
       "<div>\n",
       "<style scoped>\n",
       "    .dataframe tbody tr th:only-of-type {\n",
       "        vertical-align: middle;\n",
       "    }\n",
       "\n",
       "    .dataframe tbody tr th {\n",
       "        vertical-align: top;\n",
       "    }\n",
       "\n",
       "    .dataframe thead th {\n",
       "        text-align: right;\n",
       "    }\n",
       "</style>\n",
       "<table border=\"1\" class=\"dataframe\">\n",
       "  <thead>\n",
       "    <tr style=\"text-align: right;\">\n",
       "      <th></th>\n",
       "      <th>Id</th>\n",
       "      <th>SepalLengthCm</th>\n",
       "      <th>SepalWidthCm</th>\n",
       "      <th>PetalLengthCm</th>\n",
       "      <th>PetalWidthCm</th>\n",
       "      <th>Species</th>\n",
       "      <th>PetalRatio</th>\n",
       "      <th>SepalRatio</th>\n",
       "    </tr>\n",
       "  </thead>\n",
       "  <tbody>\n",
       "    <tr>\n",
       "      <th>0</th>\n",
       "      <td>1</td>\n",
       "      <td>5.1</td>\n",
       "      <td>3.5</td>\n",
       "      <td>1.4</td>\n",
       "      <td>0.2</td>\n",
       "      <td>Iris-setosa</td>\n",
       "      <td>7.0</td>\n",
       "      <td>1.457143</td>\n",
       "    </tr>\n",
       "    <tr>\n",
       "      <th>1</th>\n",
       "      <td>2</td>\n",
       "      <td>4.9</td>\n",
       "      <td>3.0</td>\n",
       "      <td>1.4</td>\n",
       "      <td>0.2</td>\n",
       "      <td>Iris-setosa</td>\n",
       "      <td>7.0</td>\n",
       "      <td>1.633333</td>\n",
       "    </tr>\n",
       "    <tr>\n",
       "      <th>2</th>\n",
       "      <td>3</td>\n",
       "      <td>4.7</td>\n",
       "      <td>3.2</td>\n",
       "      <td>1.3</td>\n",
       "      <td>0.2</td>\n",
       "      <td>Iris-setosa</td>\n",
       "      <td>6.5</td>\n",
       "      <td>1.468750</td>\n",
       "    </tr>\n",
       "    <tr>\n",
       "      <th>3</th>\n",
       "      <td>4</td>\n",
       "      <td>4.6</td>\n",
       "      <td>3.1</td>\n",
       "      <td>1.5</td>\n",
       "      <td>0.2</td>\n",
       "      <td>Iris-setosa</td>\n",
       "      <td>7.5</td>\n",
       "      <td>1.483871</td>\n",
       "    </tr>\n",
       "    <tr>\n",
       "      <th>4</th>\n",
       "      <td>5</td>\n",
       "      <td>5.0</td>\n",
       "      <td>3.6</td>\n",
       "      <td>1.4</td>\n",
       "      <td>0.2</td>\n",
       "      <td>Iris-setosa</td>\n",
       "      <td>7.0</td>\n",
       "      <td>1.388889</td>\n",
       "    </tr>\n",
       "  </tbody>\n",
       "</table>\n",
       "</div>"
      ],
      "text/plain": [
       "   Id  SepalLengthCm  SepalWidthCm  PetalLengthCm  PetalWidthCm      Species  \\\n",
       "0   1            5.1           3.5            1.4           0.2  Iris-setosa   \n",
       "1   2            4.9           3.0            1.4           0.2  Iris-setosa   \n",
       "2   3            4.7           3.2            1.3           0.2  Iris-setosa   \n",
       "3   4            4.6           3.1            1.5           0.2  Iris-setosa   \n",
       "4   5            5.0           3.6            1.4           0.2  Iris-setosa   \n",
       "\n",
       "   PetalRatio  SepalRatio  \n",
       "0         7.0    1.457143  \n",
       "1         7.0    1.633333  \n",
       "2         6.5    1.468750  \n",
       "3         7.5    1.483871  \n",
       "4         7.0    1.388889  "
      ]
     },
     "execution_count": 272,
     "metadata": {},
     "output_type": "execute_result"
    }
   ],
   "source": [
    "# Add columns for PetalRatio and SepalRatio\n",
    "df['PetalRatio'] = df['PetalLengthCm'] / df['PetalWidthCm']\n",
    "df['SepalRatio'] = df['SepalLengthCm'] / df['SepalWidthCm']\n",
    "\n",
    "# view the first few rows of the DataFrame\n",
    "df.head()"
   ]
  },
  {
   "cell_type": "code",
   "execution_count": 273,
   "metadata": {},
   "outputs": [],
   "source": [
    "df.to_csv('iriscorrected.csv', index=False)"
   ]
  },
  {
   "cell_type": "code",
   "execution_count": 274,
   "metadata": {},
   "outputs": [
    {
     "name": "stdout",
     "output_type": "stream",
     "text": [
      "                PetalRatio                                     SepalRatio  \\\n",
      "                      mean    median       min   max       std       mean   \n",
      "Species                                                                     \n",
      "Iris-setosa       6.818000  7.000000  2.000000  15.0  2.989061   1.484299   \n",
      "Iris-versicolor   3.242837  3.240385  2.666667   4.1  0.312456   2.160402   \n",
      "Iris-virginica    2.780662  2.666667  2.125000   4.0  0.407367   2.230453   \n",
      "\n",
      "                                                         \n",
      "                   median       min       max       std  \n",
      "Species                                                  \n",
      "Iris-setosa      1.467708  1.268293  2.066667  0.144625  \n",
      "Iris-versicolor  2.161290  1.764706  2.818182  0.228658  \n",
      "Iris-virginica   2.169540  1.823529  2.961538  0.246992  \n"
     ]
    }
   ],
   "source": [
    "# Calculate statistics using a single line of code\n",
    "statistics = df.groupby('Species').agg({'PetalRatio': ['mean', 'median', 'min', 'max', 'std'],\n",
    "                                        'SepalRatio': ['mean', 'median', 'min', 'max', 'std']})\n",
    "\n",
    "# Display the statistics\n",
    "print(statistics)"
   ]
  }
 ],
 "metadata": {
  "kernelspec": {
   "display_name": "Python 3",
   "language": "python",
   "name": "python3"
  },
  "language_info": {
   "codemirror_mode": {
    "name": "ipython",
    "version": 3
   },
   "file_extension": ".py",
   "mimetype": "text/x-python",
   "name": "python",
   "nbconvert_exporter": "python",
   "pygments_lexer": "ipython3",
   "version": "3.8.3"
  }
 },
 "nbformat": 4,
 "nbformat_minor": 4
}
